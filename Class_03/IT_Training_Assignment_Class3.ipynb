{
  "nbformat": 4,
  "nbformat_minor": 0,
  "metadata": {
    "colab": {
      "provenance": []
    },
    "kernelspec": {
      "name": "python3",
      "display_name": "Python 3"
    },
    "language_info": {
      "name": "python"
    }
  },
  "cells": [
    {
      "cell_type": "markdown",
      "source": [
        "---\n",
        "\n",
        "# **IT Training Assignment Class 3**\n",
        "\n",
        "---"
      ],
      "metadata": {
        "id": "WuzCJiLyYP3a"
      }
    },
    {
      "cell_type": "markdown",
      "source": [
        "### **Task 01: To-Do List**"
      ],
      "metadata": {
        "id": "38w50UUE_9RZ"
      }
    },
    {
      "cell_type": "code",
      "source": [
        "# Initialize a list to store Tasks\n",
        "tasks = []"
      ],
      "metadata": {
        "id": "R4a-NDLXrc5u"
      },
      "execution_count": 10,
      "outputs": []
    },
    {
      "cell_type": "code",
      "source": [
        "# Implement add task function\n",
        "def add_task(task):\n",
        "  tasks.append(task)"
      ],
      "metadata": {
        "id": "KKOkpO3frjP-"
      },
      "execution_count": 11,
      "outputs": []
    },
    {
      "cell_type": "code",
      "source": [
        "# Implement remove task function\n",
        "def remove_task(task):\n",
        "  if task in tasks:\n",
        "    tasks.remove(task)\n",
        "  else:\n",
        "    print(\"Task not found in the list.\")"
      ],
      "metadata": {
        "id": "JoUlKm8sroA6"
      },
      "execution_count": 12,
      "outputs": []
    },
    {
      "cell_type": "code",
      "source": [
        "# Implement function to view all tasks\n",
        "def view_tasks():\n",
        "  for task in tasks:\n",
        "    print(task)"
      ],
      "metadata": {
        "id": "wABCnU994dZ7"
      },
      "execution_count": 13,
      "outputs": []
    },
    {
      "cell_type": "code",
      "source": [
        "# Example Code\n",
        "add_task(\"Finish the assignment\")\n",
        "add_task(\"Work on CV\")\n",
        "\n",
        "view_tasks()"
      ],
      "metadata": {
        "colab": {
          "base_uri": "https://localhost:8080/"
        },
        "id": "I1ciArKi4rPk",
        "outputId": "365a8df5-7e7c-4491-ec4d-47ea7955698c"
      },
      "execution_count": 14,
      "outputs": [
        {
          "output_type": "stream",
          "name": "stdout",
          "text": [
            "Finish the assignment\n",
            "Work on CV\n"
          ]
        }
      ]
    },
    {
      "cell_type": "code",
      "source": [
        "remove_task(\"Work on CV\")\n",
        "view_tasks()"
      ],
      "metadata": {
        "colab": {
          "base_uri": "https://localhost:8080/"
        },
        "id": "GcbIysT246_U",
        "outputId": "9aa04e17-1f29-49d8-bc9f-a078de13edf7"
      },
      "execution_count": 15,
      "outputs": [
        {
          "output_type": "stream",
          "name": "stdout",
          "text": [
            "Finish the assignment\n"
          ]
        }
      ]
    },
    {
      "cell_type": "markdown",
      "source": [
        "### **Task 02: Find Max/Min Value in List**"
      ],
      "metadata": {
        "id": "Tql11h0o5MBi"
      }
    },
    {
      "cell_type": "code",
      "source": [
        "# Define a function\n",
        "def find_max_min(lst):\n",
        "  # Initialize tracking variables\n",
        "  max_val = lst[0]\n",
        "  min_val = lst[0]\n",
        "\n",
        "  # Iterate through list\n",
        "  for num in lst:\n",
        "    # Update max value\n",
        "    if num > max_val:\n",
        "      max_val = num\n",
        "    # Update min value\n",
        "    elif num < min_val:\n",
        "      min_val = num\n",
        "\n",
        "  # Return max and min values\n",
        "  return max_val, min_val"
      ],
      "metadata": {
        "id": "AkKYkfPg5IuB"
      },
      "execution_count": 16,
      "outputs": []
    },
    {
      "cell_type": "code",
      "source": [
        "# Example Code\n",
        "numbers = [3, 9, 2, 8, 1]\n",
        "max_val, min_val = find_max_min(numbers)\n",
        "\n",
        "print(f\"Max: {max_val}, Min: {min_val}\")"
      ],
      "metadata": {
        "colab": {
          "base_uri": "https://localhost:8080/"
        },
        "id": "sOqTXUW85qfI",
        "outputId": "5ee7fafb-8990-4845-b083-814d91a8d38e"
      },
      "execution_count": 17,
      "outputs": [
        {
          "output_type": "stream",
          "name": "stdout",
          "text": [
            "Max: 9, Min: 1\n"
          ]
        }
      ]
    },
    {
      "cell_type": "markdown",
      "source": [
        "### **Task 03: Phonebook Using Dictionaries**"
      ],
      "metadata": {
        "id": "Zru8xo-M588W"
      }
    },
    {
      "cell_type": "code",
      "source": [
        "# Initialize an empty dictionary\n",
        "phonebook = {}"
      ],
      "metadata": {
        "id": "7xLUse6b55tz"
      },
      "execution_count": 18,
      "outputs": []
    },
    {
      "cell_type": "code",
      "source": [
        "# Implement function to add Contacts\n",
        "def add_contact(name, number):\n",
        "  phonebook[name] = number"
      ],
      "metadata": {
        "id": "JkoU7I5w6Hcu"
      },
      "execution_count": 19,
      "outputs": []
    },
    {
      "cell_type": "code",
      "source": [
        "# Implement funtion to retrieve a phone number given name\n",
        "def get_number(name):\n",
        "  return phonebook.get(name, \"Contact not found\")"
      ],
      "metadata": {
        "id": "ieV8HCph6Nyu"
      },
      "execution_count": 20,
      "outputs": []
    },
    {
      "cell_type": "code",
      "source": [
        "# Example Usage\n",
        "add_contact(\"Alice\", \"1234567890\")\n",
        "add_contact(\"Bob\", \"9876543210\")\n",
        "\n",
        "print(get_number(\"Alice\"))"
      ],
      "metadata": {
        "colab": {
          "base_uri": "https://localhost:8080/"
        },
        "id": "k2avGKiS6ZBS",
        "outputId": "f5aae9b6-eeb6-4976-a0ff-3beb44b666bb"
      },
      "execution_count": 21,
      "outputs": [
        {
          "output_type": "stream",
          "name": "stdout",
          "text": [
            "1234567890\n"
          ]
        }
      ]
    },
    {
      "cell_type": "markdown",
      "source": [
        "### **Task 04: Inventory System Using Dictionaries**"
      ],
      "metadata": {
        "id": "uJn8Fgll6swl"
      }
    },
    {
      "cell_type": "code",
      "source": [
        "# Initialize an empty dictionary\n",
        "inventory = {}"
      ],
      "metadata": {
        "id": "rvXwHysW670X"
      },
      "execution_count": 30,
      "outputs": []
    },
    {
      "cell_type": "code",
      "source": [
        "# Implement a function to add items and quantity\n",
        "def add_item(item, quantity):\n",
        "  # Add item if it does not exist, otherwise increase its quantity\n",
        "  if item in inventory:\n",
        "    inventory[item] += quantity\n",
        "  else:\n",
        "    inventory[item] = quantity"
      ],
      "metadata": {
        "id": "b5GLsQKF7AZ8"
      },
      "execution_count": 23,
      "outputs": []
    },
    {
      "cell_type": "code",
      "source": [
        "# Implement a function to remove items\n",
        "def remove_item(item, quantity):\n",
        "  # Check if item is present and has enough quantity\n",
        "  if item in inventory and inventory[item] >= quantity:\n",
        "    inventory[item] -= quantity\n",
        "    if inventory[item] == 0:\n",
        "      del inventory[item]\n",
        "  else:\n",
        "    print(f\"Insufficient quantity of {item}.\")"
      ],
      "metadata": {
        "id": "xdEeIgk27HJX"
      },
      "execution_count": 24,
      "outputs": []
    },
    {
      "cell_type": "code",
      "source": [
        "# Implement a function to view inventory\n",
        "def view_inventory():\n",
        "  for item, quantity in inventory.items():\n",
        "    print(f\"{item}: {quantity}\")"
      ],
      "metadata": {
        "id": "9VEUp1Yc7gRS"
      },
      "execution_count": 26,
      "outputs": []
    },
    {
      "cell_type": "code",
      "source": [
        "# Example Usage\n",
        "add_item(\"Apple\", 10)\n",
        "add_item(\"Banana\", 5)\n",
        "\n",
        "remove_item(\"Apple\", 3)\n",
        "view_inventory()"
      ],
      "metadata": {
        "colab": {
          "base_uri": "https://localhost:8080/"
        },
        "id": "HAHY8SYA72h8",
        "outputId": "1a39d8b7-10c6-4ab3-8b4f-35c3624697bf"
      },
      "execution_count": 31,
      "outputs": [
        {
          "output_type": "stream",
          "name": "stdout",
          "text": [
            "Apple: 7\n",
            "Banana: 5\n"
          ]
        }
      ]
    },
    {
      "cell_type": "markdown",
      "source": [
        "### **Task 05: ATM System Simulation Using Global Variables**"
      ],
      "metadata": {
        "id": "BycOaAeb6ukw"
      }
    },
    {
      "cell_type": "code",
      "source": [
        "# Implement a function to deposit money and return balance\n",
        "def deposit(balance, amount):\n",
        "  balance += amount\n",
        "  print(f\"Deposited: {amount}. New Balance: {balance}\")\n",
        "\n",
        "  # Return updated balance\n",
        "  return balance"
      ],
      "metadata": {
        "id": "QsuRaxBo6iPS"
      },
      "execution_count": 43,
      "outputs": []
    },
    {
      "cell_type": "code",
      "source": [
        "# Implement a function to withdraw money and return balance\n",
        "def withdraw(balance, amount):\n",
        "  if amount <= balance:\n",
        "    balance -= amount\n",
        "    print(f\"Withdrew: {amount}. New balance: {balance}\")\n",
        "  else:\n",
        "    print(\"Insufficient funds\")\n",
        "\n",
        "    # Return updated balance\n",
        "  return balance"
      ],
      "metadata": {
        "id": "oSRd7HxI8bje"
      },
      "execution_count": 47,
      "outputs": []
    },
    {
      "cell_type": "code",
      "source": [
        "# Implement a function to check balance\n",
        "def check_balance(balance):\n",
        "  print(f\"Current Balance: {balance}\")"
      ],
      "metadata": {
        "id": "Yb4uo7pq86Yy"
      },
      "execution_count": 45,
      "outputs": []
    },
    {
      "cell_type": "code",
      "source": [
        "# Example Usage\n",
        "\n",
        "# Set initial balance\n",
        "balance = 1000\n",
        "\n",
        "# Make trasactions\n",
        "balance = deposit(balance, 500)\n",
        "balance = withdraw(balance, 200)\n",
        "\n",
        "# Check balance\n",
        "check_balance(balance)"
      ],
      "metadata": {
        "colab": {
          "base_uri": "https://localhost:8080/"
        },
        "id": "YCoB8wHq9AxP",
        "outputId": "fddfc8bf-b915-4767-f9cf-93f6b2b21284"
      },
      "execution_count": 48,
      "outputs": [
        {
          "output_type": "stream",
          "name": "stdout",
          "text": [
            "Deposited: 500. New Balance: 1500\n",
            "Withdrew: 200. New balance: 1300\n",
            "Current Balance: 1300\n"
          ]
        }
      ]
    },
    {
      "cell_type": "markdown",
      "source": [
        "---"
      ],
      "metadata": {
        "id": "_r6idn3Z9O5N"
      }
    }
  ]
}