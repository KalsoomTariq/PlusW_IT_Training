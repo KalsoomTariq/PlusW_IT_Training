{
  "nbformat": 4,
  "nbformat_minor": 0,
  "metadata": {
    "colab": {
      "provenance": []
    },
    "kernelspec": {
      "name": "python3",
      "display_name": "Python 3"
    },
    "language_info": {
      "name": "python"
    }
  },
  "cells": [
    {
      "cell_type": "markdown",
      "source": [
        "---\n",
        "\n",
        "# **IT Training Assignment Class 2**\n",
        "\n",
        "---"
      ],
      "metadata": {
        "id": "tPmQGgAZ_nK_"
      }
    },
    {
      "cell_type": "markdown",
      "source": [
        "### **Import required libraries**"
      ],
      "metadata": {
        "id": "Zf1vjJXCCtH6"
      }
    },
    {
      "cell_type": "code",
      "source": [
        "import numpy as np\n",
        "import random"
      ],
      "metadata": {
        "id": "SCi_v71xCryf"
      },
      "execution_count": 15,
      "outputs": []
    },
    {
      "cell_type": "markdown",
      "source": [
        "### **Task 01: Name Formatter & Length Calculator**"
      ],
      "metadata": {
        "id": "38w50UUE_9RZ"
      }
    },
    {
      "cell_type": "code",
      "execution_count": 16,
      "metadata": {
        "colab": {
          "base_uri": "https://localhost:8080/"
        },
        "id": "G9wjloZ9_fAG",
        "outputId": "b1f458c4-da50-4184-af0b-5268f64e8da6"
      },
      "outputs": [
        {
          "name": "stdout",
          "output_type": "stream",
          "text": [
            "Enter your first name: Kalsoom\n",
            "Enter your last name: Tariq\n"
          ]
        }
      ],
      "source": [
        "# Take inputs of first and last name\n",
        "\n",
        "first_name = input(\"Enter your first name: \")\n",
        "last_name = input(\"Enter your last name: \")"
      ]
    },
    {
      "cell_type": "code",
      "source": [
        "# Convert first name to Uppercase and last name to lower case\n",
        "# Use .upper and .lower built-in functions\n",
        "\n",
        "first_name = first_name.upper()\n",
        "last_name = last_name.lower()"
      ],
      "metadata": {
        "id": "iHepbYu8AQLY"
      },
      "execution_count": 17,
      "outputs": []
    },
    {
      "cell_type": "code",
      "source": [
        "# Calculate total letters in each part of name and sum them\n",
        "\n",
        "total_letters = len(first_name) + len(last_name)"
      ],
      "metadata": {
        "id": "Db8dZ0BnAg6H"
      },
      "execution_count": 18,
      "outputs": []
    },
    {
      "cell_type": "code",
      "source": [
        "# Print first, last name and total letters\n",
        "\n",
        "print(f\"First name (upper): {first_name}\")\n",
        "print(f\"Last name (lower): {last_name}\")\n",
        "print(\"Sum of letters in your first and last name:\", total_letters)"
      ],
      "metadata": {
        "colab": {
          "base_uri": "https://localhost:8080/"
        },
        "id": "UaaLAvuEAraU",
        "outputId": "6854a847-3e6c-4fc4-dea1-dd55da16b972"
      },
      "execution_count": 19,
      "outputs": [
        {
          "output_type": "stream",
          "name": "stdout",
          "text": [
            "First name (upper): KALSOOM\n",
            "Last name (lower): tariq\n",
            "Sum of letters in your first and last name: 12\n"
          ]
        }
      ]
    },
    {
      "cell_type": "markdown",
      "source": [
        "### **Task 02: Simple Area Calculator for various shapes**"
      ],
      "metadata": {
        "id": "mjz6UQwZA-6a"
      }
    },
    {
      "cell_type": "code",
      "source": [
        "# Print all shapes, the area of which is to be calculated\n",
        "\n",
        "print(\"Calculate the area of following shapes:\")\n",
        "print(\"1. Circle\")\n",
        "print(\"2. Rectangle\")\n",
        "print(\"3. Square\")\n",
        "print(\"4. Triangle\")"
      ],
      "metadata": {
        "colab": {
          "base_uri": "https://localhost:8080/"
        },
        "id": "z77d1PEeA6R3",
        "outputId": "60c98a30-d3c3-45c8-d4a0-2df18e7bb790"
      },
      "execution_count": 20,
      "outputs": [
        {
          "output_type": "stream",
          "name": "stdout",
          "text": [
            "Calculate the area of following shapes:\n",
            "1. Circle\n",
            "2. Rectangle\n",
            "3. Square\n",
            "4. Triangle\n"
          ]
        }
      ]
    },
    {
      "cell_type": "code",
      "source": [
        "# Circle area calculation\n",
        "print(\"Find the area of Circle: \\n\")\n",
        "\n",
        "radius = float(input(\"Enter the radius of the circle: \"))\n",
        "area_circle = np.pi * radius * radius"
      ],
      "metadata": {
        "colab": {
          "base_uri": "https://localhost:8080/"
        },
        "id": "T9Mw9bFjBMJo",
        "outputId": "45bb17e1-4df1-4915-f898-8203c54fe41e"
      },
      "execution_count": 21,
      "outputs": [
        {
          "name": "stdout",
          "output_type": "stream",
          "text": [
            "Find the area of Circle: \n",
            "\n",
            "Enter the radius of the circle: 2\n"
          ]
        }
      ]
    },
    {
      "cell_type": "code",
      "source": [
        "# Rectangle area calculation\n",
        "print(\"Find the area of Rectangle: \\n\")\n",
        "\n",
        "length = float(input(\"Enter the length of the rectangle: \"))\n",
        "width = float(input(\"Enter the width of the rectangle: \"))\n",
        "area_rectangle = length * width"
      ],
      "metadata": {
        "colab": {
          "base_uri": "https://localhost:8080/"
        },
        "id": "DvrRon5LC-pl",
        "outputId": "6afa2dcc-4581-4d5b-ed4c-f31d0440f6c5"
      },
      "execution_count": 22,
      "outputs": [
        {
          "name": "stdout",
          "output_type": "stream",
          "text": [
            "Find the area of Rectangle: \n",
            "\n",
            "Enter the length of the rectangle: 4\n",
            "Enter the width of the rectangle: 5\n"
          ]
        }
      ]
    },
    {
      "cell_type": "code",
      "source": [
        "# Square area calculation\n",
        "print(\"Find the area of Square: \\n\")\n",
        "\n",
        "side = float(input(\"Enter the side of the square: \"))\n",
        "area_square = side ** 2"
      ],
      "metadata": {
        "colab": {
          "base_uri": "https://localhost:8080/"
        },
        "id": "o5Jxa9jUDGRU",
        "outputId": "f9a9d9fe-fb73-4b00-9ace-d9d00d144dc1"
      },
      "execution_count": 23,
      "outputs": [
        {
          "name": "stdout",
          "output_type": "stream",
          "text": [
            "Find the area of Square: \n",
            "\n",
            "Enter the side of the square: 4\n"
          ]
        }
      ]
    },
    {
      "cell_type": "code",
      "source": [
        "# Triangle area calculation\n",
        "print(\"Find the area of Triangle: \\n\")\n",
        "\n",
        "base = float(input(\"Enter the base of the triangle: \"))\n",
        "height = float(input(\"Enter the height of the triangle: \"))\n",
        "area_triangle = 0.5 * base * height"
      ],
      "metadata": {
        "colab": {
          "base_uri": "https://localhost:8080/"
        },
        "id": "5sD2s2fIDRG_",
        "outputId": "92c111b3-f346-41cc-dcf9-a4107e1e7780"
      },
      "execution_count": 24,
      "outputs": [
        {
          "name": "stdout",
          "output_type": "stream",
          "text": [
            "Find the area of Triangle: \n",
            "\n",
            "Enter the base of the triangle: 2\n",
            "Enter the height of the triangle: 4\n"
          ]
        }
      ]
    },
    {
      "cell_type": "code",
      "source": [
        "# Print all areas\n",
        "print(\"The area of the circle is:\", area_circle, \"\\n\")\n",
        "print(\"The area of the rectangle is:\", area_rectangle, \"\\n\")\n",
        "print(\"The area of the square is:\", area_square, \"\\n\")\n",
        "print(\"The area of the triangle is:\", area_triangle, \"\\n\")"
      ],
      "metadata": {
        "colab": {
          "base_uri": "https://localhost:8080/"
        },
        "id": "6VkVubCYDWZY",
        "outputId": "fdacc468-8a66-4df5-dbaa-5bac6c244d8d"
      },
      "execution_count": 25,
      "outputs": [
        {
          "output_type": "stream",
          "name": "stdout",
          "text": [
            "The area of the circle is: 12.566370614359172 \n",
            "\n",
            "The area of the rectangle is: 20.0 \n",
            "\n",
            "The area of the square is: 16.0 \n",
            "\n",
            "The area of the triangle is: 4.0 \n",
            "\n"
          ]
        }
      ]
    },
    {
      "cell_type": "markdown",
      "source": [
        "### **Task 03: Random Color-Based Password Generator in Python**"
      ],
      "metadata": {
        "id": "egCGDd2qDpmT"
      }
    },
    {
      "cell_type": "code",
      "source": [
        "# Define a list of color for random selection\n",
        "\n",
        "colors = [\"red\", \"blue\", \"green\", \"yellow\", \"orange\", \"purple\"]"
      ],
      "metadata": {
        "id": "BiVUMaUyDrRS"
      },
      "execution_count": 26,
      "outputs": []
    },
    {
      "cell_type": "code",
      "source": [
        "# Generate a random index for colors array\n",
        "\n",
        "index = random.randint(0, len(colors) - 1)"
      ],
      "metadata": {
        "id": "HDKXTk-cEY4k"
      },
      "execution_count": 27,
      "outputs": []
    },
    {
      "cell_type": "code",
      "source": [
        "# Assign the color to variable `selected_color` based on random index\n",
        "\n",
        "selected_color = colors[index]"
      ],
      "metadata": {
        "id": "A0ADrBgSEjkW"
      },
      "execution_count": 28,
      "outputs": []
    },
    {
      "cell_type": "code",
      "source": [
        "# Reverse the selected color to create password\n",
        "\n",
        "password = selected_color[::-1]"
      ],
      "metadata": {
        "id": "SW93VvyyEuZB"
      },
      "execution_count": 29,
      "outputs": []
    },
    {
      "cell_type": "code",
      "source": [
        "# Print selected color and final password\n",
        "\n",
        "print(\"Selected color:\", selected_color)\n",
        "print(\"Generated password:\", password)"
      ],
      "metadata": {
        "colab": {
          "base_uri": "https://localhost:8080/"
        },
        "id": "z8Xm0leFE5Xd",
        "outputId": "dcc144bd-8fa7-48bb-eafa-0a0f4607ca09"
      },
      "execution_count": 30,
      "outputs": [
        {
          "output_type": "stream",
          "name": "stdout",
          "text": [
            "Selected color: blue\n",
            "Generated password: eulb\n"
          ]
        }
      ]
    },
    {
      "cell_type": "markdown",
      "source": [
        "---"
      ],
      "metadata": {
        "id": "76wCNdl0FA3p"
      }
    }
  ]
}